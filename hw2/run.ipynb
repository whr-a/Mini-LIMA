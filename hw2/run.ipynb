{
 "cells": [
  {
   "cell_type": "code",
   "execution_count": null,
   "id": "c4ce4b07-c569-426a-a2e1-7ea8606d5b8c",
   "metadata": {
    "ExecutionIndicator": {
     "show": false
    },
    "execution": {
     "iopub.execute_input": "2024-03-27T14:58:16.893521Z",
     "iopub.status.busy": "2024-03-27T14:58:16.893188Z",
     "iopub.status.idle": "2024-03-27T14:58:17.943017Z",
     "shell.execute_reply": "2024-03-27T14:58:17.941016Z",
     "shell.execute_reply.started": "2024-03-27T14:58:16.893501Z"
    },
    "tags": []
   },
   "outputs": [],
   "source": [
    "!cd /mnt/workspace\n",
    "!source ~/.bashrc\n",
    "!conda env list\n",
    "\n",
    "# install sft code base\n",
    "!git clone https://github.com/hiyouga/LLaMA-Factory.git\n",
    "!cd LLaMA-Factory/\n",
    "!pip install -r requirements.txt\n",
    "!cd ..\n",
    "\n",
    "# install alpaca eval\n",
    "!git clone https://github.com/tatsu-lab/alpaca_eval.git\n",
    "!cd alpaca_eval/\n",
    "!pip install -e .\n",
    "!cd ..\n",
    "\n",
    "!pip install scikit-learn=1.4.0\n",
    "\n",
    "!export OPENAI_API_BASE=<YOUR_OPENAI_API_BASE>\n",
    "!export OPENAI_API_KEY=<YOUR_OPENAI_API_KEY>\n",
    "!export MODELSCOPE_CACHE=/mnt/workspace/modelscope_hub\n",
    "!export HF_ENDPOINT=https://hf-mirror.com\n"
   ]
  },
  {
   "cell_type": "code",
   "execution_count": null,
   "id": "3180d5b1-c08c-4ce8-a496-00eda536863e",
   "metadata": {},
   "outputs": [],
   "source": [
    "!cp -r /mnt/workspace/hw2/mini_lima/ /mnt/workspace/alpaca_eval/src/alpaca_eval/models_configs/"
   ]
  },
  {
   "cell_type": "code",
   "execution_count": 3,
   "id": "282c2bfc-944a-4419-9c17-0e36c0a7f3d7",
   "metadata": {},
   "outputs": [
    {
     "name": "stderr",
     "output_type": "stream",
     "text": [
      "2024-04-15 17:42:09,826 - modelscope - INFO - PyTorch version 2.2.2 Found.\n",
      "2024-04-15 17:42:09,827 - modelscope - INFO - Loading ast index from /home/whr-a/.cache/modelscope/ast_indexer\n",
      "2024-04-15 17:42:09,828 - modelscope - INFO - No valid ast index found from /home/whr-a/.cache/modelscope/ast_indexer, generating ast index from prebuilt!\n",
      "2024-04-15 17:42:09,850 - modelscope - INFO - Loading done! Current index file version is 1.13.3, with md5 3bde533573d488dffa69689aa7bd3b72 and a total number of 972 components indexed\n",
      "Downloading: 100%|██████████| 661/661 [00:00<00:00, 2.31MB/s]\n",
      "Downloading: 100%|██████████| 51.0/51.0 [00:00<00:00, 412kB/s]\n",
      "Downloading: 100%|██████████| 206/206 [00:00<00:00, 1.98MB/s]\n",
      "Downloading: 100%|██████████| 7.11k/7.11k [00:00<00:00, 16.7MB/s]\n",
      "Downloading: 100%|██████████| 1.59M/1.59M [00:00<00:00, 6.49MB/s]\n",
      "Downloading: 100%|█████████▉| 1.15G/1.15G [00:55<00:00, 22.4MB/s]\n",
      "Downloading: 100%|██████████| 4.15k/4.15k [00:00<00:00, 25.4MB/s]\n",
      "Downloading: 100%|██████████| 6.70M/6.70M [00:00<00:00, 9.92MB/s]\n",
      "Downloading: 100%|██████████| 1.26k/1.26k [00:00<00:00, 8.69MB/s]\n",
      "Downloading: 100%|██████████| 2.65M/2.65M [00:00<00:00, 6.32MB/s]\n",
      "2024-04-15 17:43:10,873 - modelscope - INFO - initialize model from /home/whr-a/.cache/modelscope/hub/qwen/Qwen1___5-0___5B-Chat\n"
     ]
    }
   ],
   "source": [
    "from modelscope.models import Model\n",
    "model = Model.from_pretrained('qwen/Qwen1.5-0.5B-Chat')"
   ]
  },
  {
   "cell_type": "code",
   "execution_count": null,
   "id": "ee5f3dee-47fb-4739-bad0-037d11cb6f99",
   "metadata": {
    "execution": {
     "iopub.execute_input": "2024-03-27T15:05:36.123337Z",
     "iopub.status.busy": "2024-03-27T15:05:36.122971Z"
    },
    "tags": []
   },
   "outputs": [],
   "source": [
    "!alpaca_eval evaluate_from_model \\\n",
    "  --model_configs 'mini_lima' \\\n",
    "  --annotators_config 'chatgpt'"
   ]
  }
 ],
 "metadata": {
  "kernelspec": {
   "display_name": "Python 3 (ipykernel)",
   "language": "python",
   "name": "python3"
  },
  "language_info": {
   "codemirror_mode": {
    "name": "ipython",
    "version": 3
   },
   "file_extension": ".py",
   "mimetype": "text/x-python",
   "name": "python",
   "nbconvert_exporter": "python",
   "pygments_lexer": "ipython3",
   "version": "3.11.7"
  }
 },
 "nbformat": 4,
 "nbformat_minor": 5
}
